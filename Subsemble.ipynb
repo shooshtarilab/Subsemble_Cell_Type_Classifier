{
 "cells": [
  {
   "cell_type": "code",
   "execution_count": 1,
   "id": "da2776fa",
   "metadata": {},
   "outputs": [
    {
     "name": "stderr",
     "output_type": "stream",
     "text": [
      "[MLENS] backend: threading\n"
     ]
    }
   ],
   "source": [
    "from sklearn.metrics import accuracy_score, precision_score, recall_score, roc_auc_score, f1_score\n",
    "from sklearn.metrics import matthews_corrcoef\n",
    "from sklearn.metrics import cohen_kappa_score\n",
    "from sklearn.metrics import make_scorer\n",
    "\n",
    "from sklearn.model_selection import StratifiedShuffleSplit\n",
    "from sklearn.model_selection import cross_val_score\n",
    "from sklearn.model_selection import cross_validate\n",
    "\n",
    "from sklearn.neighbors import KNeighborsClassifier\n",
    "from sklearn.svm import SVC\n",
    "from sklearn.tree import DecisionTreeClassifier\n",
    "from sklearn.discriminant_analysis import QuadraticDiscriminantAnalysis\n",
    "from sklearn.ensemble import AdaBoostClassifier\n",
    "from sklearn.ensemble import RandomForestClassifier\n",
    "from sklearn.neural_network import MLPClassifier\n",
    "from sklearn.naive_bayes import GaussianNB\n",
    "from xgboost import XGBClassifier\n",
    "\n",
    "from sklearn.metrics import accuracy_score\n",
    "from sklearn.metrics import f1_score\n",
    "from sklearn.metrics import precision_score\n",
    "from sklearn.metrics import recall_score\n",
    "from sklearn.metrics import roc_auc_score\n",
    "from sklearn.metrics import cohen_kappa_score\n",
    "\n",
    "from imblearn.over_sampling import SMOTE\n",
    "from mlens.ensemble import Subsemble\n",
    "from sklearn.cluster import KMeans\n",
    "\n",
    "import pandas as pd\n",
    "import numpy as np"
   ]
  },
  {
   "cell_type": "code",
   "execution_count": 2,
   "id": "cbd45d6e",
   "metadata": {},
   "outputs": [],
   "source": [
    "def build_subsemble(proba=True, partitions=5, folds = 5):\n",
    "    \n",
    "\n",
    "    \"\"\"Build a subsemble with random partitions\"\"\"\n",
    "    sub = Subsemble(partitions=partitions, folds=folds,  verbose=2)\n",
    "    sub.add([SVC(kernel='rbf', class_weight = 'balanced', probability=True),\n",
    "             SVC(kernel='linear', class_weight = 'balanced', probability=True),\n",
    "             SVC(kernel='poly', class_weight = 'balanced', probability=True),\n",
    "             RandomForestClassifier(class_weight = 'balanced'),\n",
    "             MLPClassifier(hidden_layer_sizes= (200, 200), max_iter=1000),\n",
    "             XGBClassifier()\n",
    "            ],\n",
    "           proba=proba)\n",
    "    sub.add_meta(SVC(kernel='rbf'))\n",
    "    return sub\n"
   ]
  },
  {
   "cell_type": "code",
   "execution_count": 3,
   "id": "881f639e",
   "metadata": {},
   "outputs": [],
   "source": [
    "sub = build_subsemble()"
   ]
  },
  {
   "cell_type": "markdown",
   "id": "b62439a0",
   "metadata": {},
   "source": [
    "# Fit on User-inputted Training Data"
   ]
  },
  {
   "cell_type": "code",
   "execution_count": null,
   "id": "6ab20a02",
   "metadata": {},
   "outputs": [],
   "source": [
    "# X_train: scRNA-seq expression matrix\n",
    "# y_train: Cell type labels\n",
    "sub_model = sub.fit(X_train, y_train)"
   ]
  },
  {
   "cell_type": "markdown",
   "id": "5ad336e1",
   "metadata": {},
   "source": [
    "# Test on User-inputted Testing Data"
   ]
  },
  {
   "cell_type": "code",
   "execution_count": null,
   "id": "0f5cef2c",
   "metadata": {},
   "outputs": [],
   "source": [
    "# X_test: scRNA-seq expression matrix\n",
    "sub_model_predictions = sub_model.predict(X_test)"
   ]
  }
 ],
 "metadata": {
  "kernelspec": {
   "display_name": "Python 3 (ipykernel)",
   "language": "python",
   "name": "python3"
  },
  "language_info": {
   "codemirror_mode": {
    "name": "ipython",
    "version": 3
   },
   "file_extension": ".py",
   "mimetype": "text/x-python",
   "name": "python",
   "nbconvert_exporter": "python",
   "pygments_lexer": "ipython3",
   "version": "3.8.8"
  }
 },
 "nbformat": 4,
 "nbformat_minor": 5
}
